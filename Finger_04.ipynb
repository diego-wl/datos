{
 "cells": [
  {
   "cell_type": "markdown",
   "metadata": {},
   "source": [
    "Finger 4 - 2C -2016 - Diego Serra"
   ]
  },
  {
   "cell_type": "code",
   "execution_count": 3,
   "metadata": {
    "collapsed": false
   },
   "outputs": [
    {
     "name": "stdout",
     "output_type": "stream",
     "text": [
      "Number of lines in file: 354986\n",
      "Collisions: 119154\n",
      "Non Collisions: 235832\n",
      "Total keys: 354986\n"
     ]
    }
   ],
   "source": [
    "def myhash(s):\n",
    "    l = len(s)\n",
    "    i = (ord(s[0]))\n",
    "    f = (ord(s[l-1]))\n",
    "    d = abs(f-i)+1\n",
    "    h = (i * f)\n",
    "    o = (i + f) ^ (l*d)   \n",
    "    b = 64/l\n",
    "    a=1\n",
    "    ind=0 \n",
    "    while ind <= ((l-1)):\n",
    "        n1 = ord(s[ind])\n",
    "        n2 = ord(s[l-1-ind])\n",
    "        a = (a*2*(abs(n1-n2)+1))+((n1)^(n2*o))\n",
    "        h = (h*2*b)+a\n",
    "        ind = ind + 1\n",
    "    h= h % 184467419287 \n",
    "    return h"
   ]
  },
  {
   "cell_type": "code",
   "execution_count": null,
   "metadata": {
    "collapsed": true
   },
   "outputs": [],
   "source": []
  }
 ],
 "metadata": {
  "celltoolbar": "Raw Cell Format",
  "kernelspec": {
   "display_name": "Python 2",
   "language": "python",
   "name": "python2"
  },
  "language_info": {
   "codemirror_mode": {
    "name": "ipython",
    "version": 2
   },
   "file_extension": ".py",
   "mimetype": "text/x-python",
   "name": "python",
   "nbconvert_exporter": "python",
   "pygments_lexer": "ipython2",
   "version": "2.7.6"
  }
 },
 "nbformat": 4,
 "nbformat_minor": 1
}
